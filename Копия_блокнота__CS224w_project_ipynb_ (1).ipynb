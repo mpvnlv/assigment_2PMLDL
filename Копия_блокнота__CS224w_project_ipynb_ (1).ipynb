{
  "nbformat": 4,
  "nbformat_minor": 0,
  "metadata": {
    "colab": {
      "provenance": []
    },
    "kernelspec": {
      "display_name": "Python 3",
      "name": "python3"
    },
    "language_info": {
      "name": "python"
    }
  },
  "cells": [
    {
      "cell_type": "markdown",
      "source": [],
      "metadata": {
        "id": "9A2d2MjyxqG0"
      }
    },
    {
      "cell_type": "markdown",
      "source": [
        "## 1. Install Packages and Libraries"
      ],
      "metadata": {
        "id": "aO6HhJV4NsX6"
      }
    },
    {
      "cell_type": "code",
      "metadata": {
        "id": "lxoenua1-u5r"
      },
      "source": [
        "# Install required packages.\n",
        "%%capture\n",
        "import torch\n",
        "import os\n",
        "os.environ['TORCH'] = torch.__version__\n",
        "!pip install torch-scatter -f https://data.pyg.org/whl/torch-${TORCH}.html\n",
        "!pip install torch-sparse -f https://data.pyg.org/whl/torch-${TORCH}.html\n",
        "!pip install pyg-lib -f https://data.pyg.org/whl/nightly/torch-${TORCH}.html\n",
        "!pip install git+https://github.com/pyg-team/pytorch_geometric.git\n",
        "!pip install surprise"
      ],
      "execution_count": 2,
      "outputs": []
    },
    {
      "cell_type": "code",
      "metadata": {
        "id": "5OBSacx6Q03m"
      },
      "source": [
        "# import required modules\n",
        "import matplotlib.pyplot as plt\n",
        "import numpy as np\n",
        "import pandas as pd\n",
        "import random\n",
        "from sklearn.model_selection import train_test_split\n",
        "from tqdm import tqdm\n",
        "\n",
        "\n",
        "\n",
        "\n",
        "from torch import Tensor, nn, optim\n",
        "from torch_geometric.data import download_url, extract_zip\n",
        "from torch_geometric.nn.conv import MessagePassing\n",
        "from torch_geometric.nn.conv.gcn_conv import gcn_norm\n",
        "from torch_geometric.utils import structured_negative_sampling\n",
        "from torch_sparse import SparseTensor, matmul"
      ],
      "execution_count": 3,
      "outputs": []
    },
    {
      "cell_type": "markdown",
      "source": [
        "\n",
        "Initially, I experimented with Singular Value Decomposition (SVD) and achieved satisfactory results. However, I encountered a limitation with the SVD() method, as it does not incorporate user-specific information into its predictions."
      ],
      "metadata": {
        "id": "7vSM4N-sKvHw"
      }
    },
    {
      "cell_type": "code",
      "source": [
        "import pandas as pd\n",
        "from surprise import Reader, Dataset\n",
        "from surprise.model_selection import train_test_split\n",
        "from surprise import SVD\n",
        "from sklearn.metrics import mean_squared_error\n",
        "\n",
        "# Load user data\n",
        "user_data = pd.read_csv(\"/content/u.user\", sep=\"|\")\n",
        "user_data.columns = ['user_id', 'age', 'gender', 'profession', 'zip code']\n",
        "user_data = user_data.sort_values(by=['user_id'])\n",
        "\n",
        "# Load movie data\n",
        "movie_data = pd.read_csv(\"/content/u.data\", sep=\"\\t\")\n",
        "movie_data.columns = [\"user_id\", \"item_id\", \"rating\",  \"timestamp\"]\n",
        "movie_data = movie_data.sort_values(by=['user_id'])\n",
        "\n",
        "# Merge user and movie data\n",
        "data = pd.merge(user_data, movie_data, on=[\"user_id\"])\n",
        "\n",
        "# Create a DataFrame\n",
        "df = pd.DataFrame(data)\n",
        "\n",
        "# One-hot encoding for gender and profession\n",
        "df = pd.get_dummies(df, columns=['gender', 'profession'], drop_first=True)\n",
        "\n",
        "# Create an instance of the Reader class for the surprise library\n",
        "reader = Reader(rating_scale=(1, 5))\n",
        "\n",
        "# Load data in a format understandable by the surprise library\n",
        "dataset = Dataset.load_from_df(df[['user_id', 'item_id', 'rating']], reader)\n",
        "\n",
        "# Split the dataset into training and testing sets\n",
        "trainset, testset = train_test_split(dataset, test_size=0.2, random_state=42)\n",
        "\n",
        "# Create an SVD model and fit it to the training set\n",
        "model_svd = SVD(n_factors=50, n_epochs=70, lr_all=0.005, reg_all=0.02)\n",
        "model_svd.fit(trainset)\n",
        "\n",
        "# Make predictions on the test set\n",
        "predictions_svd = model_svd.test(testset)\n",
        "\n",
        "# Print the first 100 predictions\n",
        "for i in range(100):\n",
        "    print(\"Prediction:\", predictions_svd[i].est, \"Actual:\", predictions_svd[i].r_ui)\n",
        "\n",
        "# Calculate Mean Squared Error\n",
        "mse = mean_squared_error([x.est for x in predictions_svd], [pred[2] for pred in testset])\n",
        "\n",
        "# Print Mean Squared Error\n",
        "print(f'Mean Squared Error: {mse}')\n"
      ],
      "metadata": {
        "id": "-PdAIB6I3_8k"
      },
      "execution_count": null,
      "outputs": []
    },
    {
      "cell_type": "markdown",
      "source": [
        "Then, i tried LinearRegression(). And result is not so good"
      ],
      "metadata": {
        "id": "kFirsrlTQ0vB"
      }
    },
    {
      "cell_type": "code",
      "source": [
        "import pandas as pd\n",
        "from sklearn.model_selection import train_test_split\n",
        "from surprise import SVD\n",
        "from sklearn.linear_model import LinearRegression\n",
        "from sklearn.metrics import mean_squared_error\n",
        "\n",
        "# Create a DataFrame from the data\n",
        "df = pd.DataFrame(data)\n",
        "\n",
        "# One-hot encoding for gender and profession\n",
        "df = pd.get_dummies(df, columns=['gender', 'profession'], drop_first=True)\n",
        "\n",
        "trainset, test_set = train_test_split(df, test_size=0.2, random_state=42)\n",
        "\n",
        "# Train a linear regression model on user information (age, gender, profession)\n",
        "model_user_info = LinearRegression()\n",
        "df.fillna(0, inplace=True)\n",
        "df = df.drop(['zip code', 'timestamp'], axis=1)\n",
        "model_user_info.fit(df.drop(['rating'], axis=1), df['rating'])\n",
        "\n",
        "# Get predictions from the user information model\n",
        "user_info_predictions = model_user_info.predict(test_set.drop(['rating', 'timestamp', 'zip code'], axis=1))\n",
        "\n",
        "# Normalize and scale user_info_predictions to be in the range of 1 to 5\n",
        "user_info_predictions = ((user_info_predictions - min(user_info_predictions)) / (max(user_info_predictions) - min(user_info_predictions))) * 5\n",
        "\n",
        "\n",
        "# Evaluate the performance of the hybrid model\n",
        "mse = mean_squared_error(user_info_predictions, test_set['rating'])\n",
        "print(f'Mean Squared Error: {mse}')\n"
      ],
      "metadata": {
        "colab": {
          "base_uri": "https://localhost:8080/"
        },
        "id": "jIC_jOrPKfPj",
        "outputId": "090bb5f4-066a-4a51-8b9e-dc76c57fb4be"
      },
      "execution_count": 90,
      "outputs": [
        {
          "output_type": "stream",
          "name": "stdout",
          "text": [
            "Mean Squared Error: 1.3697543372966023\n"
          ]
        }
      ]
    },
    {
      "cell_type": "markdown",
      "source": [
        "# Movie Recommender System based on LightGCN\n",
        "\n",
        "> Блок с отступами\n",
        "\n"
      ],
      "metadata": {
        "id": "sXnpUp2yNqzH"
      }
    },
    {
      "cell_type": "markdown",
      "source": [
        "MovieLens 100k is a well-known movie recommendation dataset that contains 100,000 movie ratings from 943 users on 1,682 movies. Each user has rated at least 20 movies on a scale of 1 to 5, and the data is provided in a matrix format where each row represents a user and each column represents a movie. The dataset also includes additional information such as movie genre and release year. MovieLens 100k is often used as a benchmark for evaluating movie recommendation models and algorithms."
      ],
      "metadata": {
        "id": "PhNjo7fqslj_"
      }
    },
    {
      "cell_type": "code",
      "source": [
        "# import required modules\n",
        "import matplotlib.pyplot as plt\n",
        "import numpy as np\n",
        "import pandas as pd\n",
        "import random\n",
        "from sklearn.model_selection import train_test_split\n",
        "from tqdm import tqdm\n",
        "\n",
        "\n",
        "\n",
        "\n",
        "from torch import Tensor, nn, optim\n",
        "from torch_geometric.data import download_url, extract_zip\n",
        "from torch_geometric.nn.conv import MessagePassing\n",
        "from torch_geometric.nn.conv.gcn_conv import gcn_norm\n",
        "from torch_geometric.utils import structured_negative_sampling\n",
        "from torch_sparse import SparseTensor, matmul"
      ],
      "metadata": {
        "id": "k_tsNPyWbVdp"
      },
      "execution_count": 11,
      "outputs": []
    },
    {
      "cell_type": "code",
      "metadata": {
        "colab": {
          "base_uri": "https://localhost:8080/"
        },
        "id": "6cRC_IazQ4Oj",
        "outputId": "8e6b1106-cd71-4b8f-8d98-cbc3f4338a9f"
      },
      "source": [
        "# download the dataset\n",
        "url = 'https://files.grouplens.org/datasets/movielens/ml-latest-small.zip'\n",
        "extract_zip(download_url(url, '.'), '.')\n",
        "\n",
        "movie_path = './ml-latest-small/movies.csv'\n",
        "rating_path = './ml-latest-small/ratings.csv'"
      ],
      "execution_count": 12,
      "outputs": [
        {
          "output_type": "stream",
          "name": "stderr",
          "text": [
            "Using existing file ml-latest-small.zip\n",
            "Extracting ./ml-latest-small.zip\n"
          ]
        }
      ]
    },
    {
      "cell_type": "markdown",
      "source": [
        "The `ratings.csv` dataset links users (identified by `userId`) and movies (identified by `movieId`). Our initial objective is to construct a dictionary that maps each entry's ID to a unique value within the range `{ 0, ..., num_rows - 1 }`. This mapping is beneficial since it reduces the size of the adjacency matrix. We then generate an `edge_index` matrix from `ratings.csv` with dimensions `[2, num_ratings]`. The first row contains the mapped userId, while the second row has the mapped `movieId`. A specific column corresponds to a connection (or rating) between a user and a movie. The `edge_index` tensor is a crucial component for message propagation throughout the graph network.\n"
      ],
      "metadata": {
        "id": "S0bzq0x6QC3U"
      }
    },
    {
      "cell_type": "code",
      "source": [
        "def preprocessing(movie_path, rating_path):\n",
        "  '''\n",
        "    Parameters:\n",
        "         movie_path (str): A string representing the file path to the movies dataset.\n",
        "         rating_path (str): A string representing the file path to the ratings dataset.\n",
        "\n",
        "    Returns:\n",
        "         edge_index (torch.Tensor): the indices of edges in the adjacency matrix for the ratings dataset.\n",
        "         num_users (int): number of unique users in the ratings dataset.\n",
        "         num_movies (int): number of unique movies in the ratings dataset.\n",
        "         user_mapping (pd.DataFrame): the list that map user id to continguous new ids\n",
        "         movie_df (pd.DataFrame): the movie dataset\n",
        "         rating_df (pd.DataFrame): the rating dataset\n",
        "  '''\n",
        "  # load movies and ratings dataset\n",
        "  movie_df = pd.read_csv(movie_path, index_col = 'movieId')\n",
        "  rating_df = pd.read_csv(rating_path, index_col = 'userId')\n",
        "\n",
        "  # create mapping to continous range\n",
        "  movie_mapping = {idx: i for i, idx in enumerate(movie_df.index.unique())}\n",
        "  user_mapping = {idx: i for i, idx in enumerate(rating_df.index.unique())}\n",
        "  num_users, num_movies = len(rating_df.index.unique()), len(movie_df.index.unique())\n",
        "\n",
        "  rating_df = pd.read_csv(rating_path)\n",
        "  edge_index = None\n",
        "  users = [user_mapping[idx] for idx in rating_df['userId']]\n",
        "  movies = [movie_mapping[idx] for idx in rating_df['movieId']]\n",
        "\n",
        "  # filter for edges with a high rating\n",
        "  ratings = rating_df['rating'].values\n",
        "  recommend_bool = torch.from_numpy(ratings).view(-1, 1).to(torch.long) >= 4\n",
        "\n",
        "  edge_index = [[],[]]\n",
        "  for i in range(recommend_bool.shape[0]):\n",
        "    if recommend_bool[i]:\n",
        "      edge_index[0].append(users[i])\n",
        "      edge_index[1].append(movies[i])\n",
        "\n",
        "  edge_index = torch.tensor(edge_index)\n",
        "  return edge_index, num_users, num_movies, \\\n",
        "  movie_mapping, user_mapping, movie_df, rating_df"
      ],
      "metadata": {
        "id": "mLEBcsyv5abc"
      },
      "execution_count": 13,
      "outputs": []
    },
    {
      "cell_type": "code",
      "source": [
        "edge_index, num_users, num_movies,movie_mapping, user_mapping,movie_df, rating_df = preprocessing(movie_path, rating_path)"
      ],
      "metadata": {
        "id": "lm-VDQZA_GAP"
      },
      "execution_count": 14,
      "outputs": []
    },
    {
      "cell_type": "markdown",
      "source": [
        "### A peek into the MovieLens 100K dataset"
      ],
      "metadata": {
        "id": "Gth7ZSb2tic9"
      }
    },
    {
      "cell_type": "markdown",
      "source": [
        "Let's take a look into the MovieLens dataset. We can see the `movie.csv` has the following format: `movieId title genres`\n",
        "\n"
      ],
      "metadata": {
        "id": "e4N5c7jhbZ9u"
      }
    },
    {
      "cell_type": "code",
      "source": [
        "# format for movie\n",
        "movie_df.head(10)"
      ],
      "metadata": {
        "id": "hJ1QdoYStY9z",
        "outputId": "0aeddb88-d6af-49cd-bdc3-4186669cd0d7",
        "colab": {
          "base_uri": "https://localhost:8080/",
          "height": 394
        }
      },
      "execution_count": 15,
      "outputs": [
        {
          "output_type": "execute_result",
          "data": {
            "text/plain": [
              "                                      title  \\\n",
              "movieId                                       \n",
              "1                          Toy Story (1995)   \n",
              "2                            Jumanji (1995)   \n",
              "3                   Grumpier Old Men (1995)   \n",
              "4                  Waiting to Exhale (1995)   \n",
              "5        Father of the Bride Part II (1995)   \n",
              "6                               Heat (1995)   \n",
              "7                            Sabrina (1995)   \n",
              "8                       Tom and Huck (1995)   \n",
              "9                       Sudden Death (1995)   \n",
              "10                         GoldenEye (1995)   \n",
              "\n",
              "                                              genres  \n",
              "movieId                                               \n",
              "1        Adventure|Animation|Children|Comedy|Fantasy  \n",
              "2                         Adventure|Children|Fantasy  \n",
              "3                                     Comedy|Romance  \n",
              "4                               Comedy|Drama|Romance  \n",
              "5                                             Comedy  \n",
              "6                              Action|Crime|Thriller  \n",
              "7                                     Comedy|Romance  \n",
              "8                                 Adventure|Children  \n",
              "9                                             Action  \n",
              "10                         Action|Adventure|Thriller  "
            ],
            "text/html": [
              "\n",
              "  <div id=\"df-f162c0ed-b700-4fba-b54e-74b470d78a48\" class=\"colab-df-container\">\n",
              "    <div>\n",
              "<style scoped>\n",
              "    .dataframe tbody tr th:only-of-type {\n",
              "        vertical-align: middle;\n",
              "    }\n",
              "\n",
              "    .dataframe tbody tr th {\n",
              "        vertical-align: top;\n",
              "    }\n",
              "\n",
              "    .dataframe thead th {\n",
              "        text-align: right;\n",
              "    }\n",
              "</style>\n",
              "<table border=\"1\" class=\"dataframe\">\n",
              "  <thead>\n",
              "    <tr style=\"text-align: right;\">\n",
              "      <th></th>\n",
              "      <th>title</th>\n",
              "      <th>genres</th>\n",
              "    </tr>\n",
              "    <tr>\n",
              "      <th>movieId</th>\n",
              "      <th></th>\n",
              "      <th></th>\n",
              "    </tr>\n",
              "  </thead>\n",
              "  <tbody>\n",
              "    <tr>\n",
              "      <th>1</th>\n",
              "      <td>Toy Story (1995)</td>\n",
              "      <td>Adventure|Animation|Children|Comedy|Fantasy</td>\n",
              "    </tr>\n",
              "    <tr>\n",
              "      <th>2</th>\n",
              "      <td>Jumanji (1995)</td>\n",
              "      <td>Adventure|Children|Fantasy</td>\n",
              "    </tr>\n",
              "    <tr>\n",
              "      <th>3</th>\n",
              "      <td>Grumpier Old Men (1995)</td>\n",
              "      <td>Comedy|Romance</td>\n",
              "    </tr>\n",
              "    <tr>\n",
              "      <th>4</th>\n",
              "      <td>Waiting to Exhale (1995)</td>\n",
              "      <td>Comedy|Drama|Romance</td>\n",
              "    </tr>\n",
              "    <tr>\n",
              "      <th>5</th>\n",
              "      <td>Father of the Bride Part II (1995)</td>\n",
              "      <td>Comedy</td>\n",
              "    </tr>\n",
              "    <tr>\n",
              "      <th>6</th>\n",
              "      <td>Heat (1995)</td>\n",
              "      <td>Action|Crime|Thriller</td>\n",
              "    </tr>\n",
              "    <tr>\n",
              "      <th>7</th>\n",
              "      <td>Sabrina (1995)</td>\n",
              "      <td>Comedy|Romance</td>\n",
              "    </tr>\n",
              "    <tr>\n",
              "      <th>8</th>\n",
              "      <td>Tom and Huck (1995)</td>\n",
              "      <td>Adventure|Children</td>\n",
              "    </tr>\n",
              "    <tr>\n",
              "      <th>9</th>\n",
              "      <td>Sudden Death (1995)</td>\n",
              "      <td>Action</td>\n",
              "    </tr>\n",
              "    <tr>\n",
              "      <th>10</th>\n",
              "      <td>GoldenEye (1995)</td>\n",
              "      <td>Action|Adventure|Thriller</td>\n",
              "    </tr>\n",
              "  </tbody>\n",
              "</table>\n",
              "</div>\n",
              "    <div class=\"colab-df-buttons\">\n",
              "\n",
              "  <div class=\"colab-df-container\">\n",
              "    <button class=\"colab-df-convert\" onclick=\"convertToInteractive('df-f162c0ed-b700-4fba-b54e-74b470d78a48')\"\n",
              "            title=\"Convert this dataframe to an interactive table.\"\n",
              "            style=\"display:none;\">\n",
              "\n",
              "  <svg xmlns=\"http://www.w3.org/2000/svg\" height=\"24px\" viewBox=\"0 -960 960 960\">\n",
              "    <path d=\"M120-120v-720h720v720H120Zm60-500h600v-160H180v160Zm220 220h160v-160H400v160Zm0 220h160v-160H400v160ZM180-400h160v-160H180v160Zm440 0h160v-160H620v160ZM180-180h160v-160H180v160Zm440 0h160v-160H620v160Z\"/>\n",
              "  </svg>\n",
              "    </button>\n",
              "\n",
              "  <style>\n",
              "    .colab-df-container {\n",
              "      display:flex;\n",
              "      gap: 12px;\n",
              "    }\n",
              "\n",
              "    .colab-df-convert {\n",
              "      background-color: #E8F0FE;\n",
              "      border: none;\n",
              "      border-radius: 50%;\n",
              "      cursor: pointer;\n",
              "      display: none;\n",
              "      fill: #1967D2;\n",
              "      height: 32px;\n",
              "      padding: 0 0 0 0;\n",
              "      width: 32px;\n",
              "    }\n",
              "\n",
              "    .colab-df-convert:hover {\n",
              "      background-color: #E2EBFA;\n",
              "      box-shadow: 0px 1px 2px rgba(60, 64, 67, 0.3), 0px 1px 3px 1px rgba(60, 64, 67, 0.15);\n",
              "      fill: #174EA6;\n",
              "    }\n",
              "\n",
              "    .colab-df-buttons div {\n",
              "      margin-bottom: 4px;\n",
              "    }\n",
              "\n",
              "    [theme=dark] .colab-df-convert {\n",
              "      background-color: #3B4455;\n",
              "      fill: #D2E3FC;\n",
              "    }\n",
              "\n",
              "    [theme=dark] .colab-df-convert:hover {\n",
              "      background-color: #434B5C;\n",
              "      box-shadow: 0px 1px 3px 1px rgba(0, 0, 0, 0.15);\n",
              "      filter: drop-shadow(0px 1px 2px rgba(0, 0, 0, 0.3));\n",
              "      fill: #FFFFFF;\n",
              "    }\n",
              "  </style>\n",
              "\n",
              "    <script>\n",
              "      const buttonEl =\n",
              "        document.querySelector('#df-f162c0ed-b700-4fba-b54e-74b470d78a48 button.colab-df-convert');\n",
              "      buttonEl.style.display =\n",
              "        google.colab.kernel.accessAllowed ? 'block' : 'none';\n",
              "\n",
              "      async function convertToInteractive(key) {\n",
              "        const element = document.querySelector('#df-f162c0ed-b700-4fba-b54e-74b470d78a48');\n",
              "        const dataTable =\n",
              "          await google.colab.kernel.invokeFunction('convertToInteractive',\n",
              "                                                    [key], {});\n",
              "        if (!dataTable) return;\n",
              "\n",
              "        const docLinkHtml = 'Like what you see? Visit the ' +\n",
              "          '<a target=\"_blank\" href=https://colab.research.google.com/notebooks/data_table.ipynb>data table notebook</a>'\n",
              "          + ' to learn more about interactive tables.';\n",
              "        element.innerHTML = '';\n",
              "        dataTable['output_type'] = 'display_data';\n",
              "        await google.colab.output.renderOutput(dataTable, element);\n",
              "        const docLink = document.createElement('div');\n",
              "        docLink.innerHTML = docLinkHtml;\n",
              "        element.appendChild(docLink);\n",
              "      }\n",
              "    </script>\n",
              "  </div>\n",
              "\n",
              "\n",
              "<div id=\"df-71d61a30-db23-4749-8541-65bb69ffbfed\">\n",
              "  <button class=\"colab-df-quickchart\" onclick=\"quickchart('df-71d61a30-db23-4749-8541-65bb69ffbfed')\"\n",
              "            title=\"Suggest charts\"\n",
              "            style=\"display:none;\">\n",
              "\n",
              "<svg xmlns=\"http://www.w3.org/2000/svg\" height=\"24px\"viewBox=\"0 0 24 24\"\n",
              "     width=\"24px\">\n",
              "    <g>\n",
              "        <path d=\"M19 3H5c-1.1 0-2 .9-2 2v14c0 1.1.9 2 2 2h14c1.1 0 2-.9 2-2V5c0-1.1-.9-2-2-2zM9 17H7v-7h2v7zm4 0h-2V7h2v10zm4 0h-2v-4h2v4z\"/>\n",
              "    </g>\n",
              "</svg>\n",
              "  </button>\n",
              "\n",
              "<style>\n",
              "  .colab-df-quickchart {\n",
              "      --bg-color: #E8F0FE;\n",
              "      --fill-color: #1967D2;\n",
              "      --hover-bg-color: #E2EBFA;\n",
              "      --hover-fill-color: #174EA6;\n",
              "      --disabled-fill-color: #AAA;\n",
              "      --disabled-bg-color: #DDD;\n",
              "  }\n",
              "\n",
              "  [theme=dark] .colab-df-quickchart {\n",
              "      --bg-color: #3B4455;\n",
              "      --fill-color: #D2E3FC;\n",
              "      --hover-bg-color: #434B5C;\n",
              "      --hover-fill-color: #FFFFFF;\n",
              "      --disabled-bg-color: #3B4455;\n",
              "      --disabled-fill-color: #666;\n",
              "  }\n",
              "\n",
              "  .colab-df-quickchart {\n",
              "    background-color: var(--bg-color);\n",
              "    border: none;\n",
              "    border-radius: 50%;\n",
              "    cursor: pointer;\n",
              "    display: none;\n",
              "    fill: var(--fill-color);\n",
              "    height: 32px;\n",
              "    padding: 0;\n",
              "    width: 32px;\n",
              "  }\n",
              "\n",
              "  .colab-df-quickchart:hover {\n",
              "    background-color: var(--hover-bg-color);\n",
              "    box-shadow: 0 1px 2px rgba(60, 64, 67, 0.3), 0 1px 3px 1px rgba(60, 64, 67, 0.15);\n",
              "    fill: var(--button-hover-fill-color);\n",
              "  }\n",
              "\n",
              "  .colab-df-quickchart-complete:disabled,\n",
              "  .colab-df-quickchart-complete:disabled:hover {\n",
              "    background-color: var(--disabled-bg-color);\n",
              "    fill: var(--disabled-fill-color);\n",
              "    box-shadow: none;\n",
              "  }\n",
              "\n",
              "  .colab-df-spinner {\n",
              "    border: 2px solid var(--fill-color);\n",
              "    border-color: transparent;\n",
              "    border-bottom-color: var(--fill-color);\n",
              "    animation:\n",
              "      spin 1s steps(1) infinite;\n",
              "  }\n",
              "\n",
              "  @keyframes spin {\n",
              "    0% {\n",
              "      border-color: transparent;\n",
              "      border-bottom-color: var(--fill-color);\n",
              "      border-left-color: var(--fill-color);\n",
              "    }\n",
              "    20% {\n",
              "      border-color: transparent;\n",
              "      border-left-color: var(--fill-color);\n",
              "      border-top-color: var(--fill-color);\n",
              "    }\n",
              "    30% {\n",
              "      border-color: transparent;\n",
              "      border-left-color: var(--fill-color);\n",
              "      border-top-color: var(--fill-color);\n",
              "      border-right-color: var(--fill-color);\n",
              "    }\n",
              "    40% {\n",
              "      border-color: transparent;\n",
              "      border-right-color: var(--fill-color);\n",
              "      border-top-color: var(--fill-color);\n",
              "    }\n",
              "    60% {\n",
              "      border-color: transparent;\n",
              "      border-right-color: var(--fill-color);\n",
              "    }\n",
              "    80% {\n",
              "      border-color: transparent;\n",
              "      border-right-color: var(--fill-color);\n",
              "      border-bottom-color: var(--fill-color);\n",
              "    }\n",
              "    90% {\n",
              "      border-color: transparent;\n",
              "      border-bottom-color: var(--fill-color);\n",
              "    }\n",
              "  }\n",
              "</style>\n",
              "\n",
              "  <script>\n",
              "    async function quickchart(key) {\n",
              "      const quickchartButtonEl =\n",
              "        document.querySelector('#' + key + ' button');\n",
              "      quickchartButtonEl.disabled = true;  // To prevent multiple clicks.\n",
              "      quickchartButtonEl.classList.add('colab-df-spinner');\n",
              "      try {\n",
              "        const charts = await google.colab.kernel.invokeFunction(\n",
              "            'suggestCharts', [key], {});\n",
              "      } catch (error) {\n",
              "        console.error('Error during call to suggestCharts:', error);\n",
              "      }\n",
              "      quickchartButtonEl.classList.remove('colab-df-spinner');\n",
              "      quickchartButtonEl.classList.add('colab-df-quickchart-complete');\n",
              "    }\n",
              "    (() => {\n",
              "      let quickchartButtonEl =\n",
              "        document.querySelector('#df-71d61a30-db23-4749-8541-65bb69ffbfed button');\n",
              "      quickchartButtonEl.style.display =\n",
              "        google.colab.kernel.accessAllowed ? 'block' : 'none';\n",
              "    })();\n",
              "  </script>\n",
              "</div>\n",
              "    </div>\n",
              "  </div>\n"
            ]
          },
          "metadata": {},
          "execution_count": 15
        }
      ]
    },
    {
      "cell_type": "markdown",
      "source": [
        "The `rating.csv` has the following format of `userId, movieId, rating, timestamp`. For the raitng prediction task, we only need the first three fields for the purpose of our task."
      ],
      "metadata": {
        "id": "e6n1vPXtb62V"
      }
    },
    {
      "cell_type": "code",
      "source": [
        "# format for ratings\n",
        "rating_df.head(10)"
      ],
      "metadata": {
        "id": "ZAdRhX80twp8",
        "outputId": "94d76c7b-4d98-4149-83a0-81b0c9f5f107",
        "colab": {
          "base_uri": "https://localhost:8080/",
          "height": 363
        }
      },
      "execution_count": 16,
      "outputs": [
        {
          "output_type": "execute_result",
          "data": {
            "text/plain": [
              "   userId  movieId  rating  timestamp\n",
              "0       1        1     4.0  964982703\n",
              "1       1        3     4.0  964981247\n",
              "2       1        6     4.0  964982224\n",
              "3       1       47     5.0  964983815\n",
              "4       1       50     5.0  964982931\n",
              "5       1       70     3.0  964982400\n",
              "6       1      101     5.0  964980868\n",
              "7       1      110     4.0  964982176\n",
              "8       1      151     5.0  964984041\n",
              "9       1      157     5.0  964984100"
            ],
            "text/html": [
              "\n",
              "  <div id=\"df-fd9558ad-90d9-4395-81d2-e723a44d2963\" class=\"colab-df-container\">\n",
              "    <div>\n",
              "<style scoped>\n",
              "    .dataframe tbody tr th:only-of-type {\n",
              "        vertical-align: middle;\n",
              "    }\n",
              "\n",
              "    .dataframe tbody tr th {\n",
              "        vertical-align: top;\n",
              "    }\n",
              "\n",
              "    .dataframe thead th {\n",
              "        text-align: right;\n",
              "    }\n",
              "</style>\n",
              "<table border=\"1\" class=\"dataframe\">\n",
              "  <thead>\n",
              "    <tr style=\"text-align: right;\">\n",
              "      <th></th>\n",
              "      <th>userId</th>\n",
              "      <th>movieId</th>\n",
              "      <th>rating</th>\n",
              "      <th>timestamp</th>\n",
              "    </tr>\n",
              "  </thead>\n",
              "  <tbody>\n",
              "    <tr>\n",
              "      <th>0</th>\n",
              "      <td>1</td>\n",
              "      <td>1</td>\n",
              "      <td>4.0</td>\n",
              "      <td>964982703</td>\n",
              "    </tr>\n",
              "    <tr>\n",
              "      <th>1</th>\n",
              "      <td>1</td>\n",
              "      <td>3</td>\n",
              "      <td>4.0</td>\n",
              "      <td>964981247</td>\n",
              "    </tr>\n",
              "    <tr>\n",
              "      <th>2</th>\n",
              "      <td>1</td>\n",
              "      <td>6</td>\n",
              "      <td>4.0</td>\n",
              "      <td>964982224</td>\n",
              "    </tr>\n",
              "    <tr>\n",
              "      <th>3</th>\n",
              "      <td>1</td>\n",
              "      <td>47</td>\n",
              "      <td>5.0</td>\n",
              "      <td>964983815</td>\n",
              "    </tr>\n",
              "    <tr>\n",
              "      <th>4</th>\n",
              "      <td>1</td>\n",
              "      <td>50</td>\n",
              "      <td>5.0</td>\n",
              "      <td>964982931</td>\n",
              "    </tr>\n",
              "    <tr>\n",
              "      <th>5</th>\n",
              "      <td>1</td>\n",
              "      <td>70</td>\n",
              "      <td>3.0</td>\n",
              "      <td>964982400</td>\n",
              "    </tr>\n",
              "    <tr>\n",
              "      <th>6</th>\n",
              "      <td>1</td>\n",
              "      <td>101</td>\n",
              "      <td>5.0</td>\n",
              "      <td>964980868</td>\n",
              "    </tr>\n",
              "    <tr>\n",
              "      <th>7</th>\n",
              "      <td>1</td>\n",
              "      <td>110</td>\n",
              "      <td>4.0</td>\n",
              "      <td>964982176</td>\n",
              "    </tr>\n",
              "    <tr>\n",
              "      <th>8</th>\n",
              "      <td>1</td>\n",
              "      <td>151</td>\n",
              "      <td>5.0</td>\n",
              "      <td>964984041</td>\n",
              "    </tr>\n",
              "    <tr>\n",
              "      <th>9</th>\n",
              "      <td>1</td>\n",
              "      <td>157</td>\n",
              "      <td>5.0</td>\n",
              "      <td>964984100</td>\n",
              "    </tr>\n",
              "  </tbody>\n",
              "</table>\n",
              "</div>\n",
              "    <div class=\"colab-df-buttons\">\n",
              "\n",
              "  <div class=\"colab-df-container\">\n",
              "    <button class=\"colab-df-convert\" onclick=\"convertToInteractive('df-fd9558ad-90d9-4395-81d2-e723a44d2963')\"\n",
              "            title=\"Convert this dataframe to an interactive table.\"\n",
              "            style=\"display:none;\">\n",
              "\n",
              "  <svg xmlns=\"http://www.w3.org/2000/svg\" height=\"24px\" viewBox=\"0 -960 960 960\">\n",
              "    <path d=\"M120-120v-720h720v720H120Zm60-500h600v-160H180v160Zm220 220h160v-160H400v160Zm0 220h160v-160H400v160ZM180-400h160v-160H180v160Zm440 0h160v-160H620v160ZM180-180h160v-160H180v160Zm440 0h160v-160H620v160Z\"/>\n",
              "  </svg>\n",
              "    </button>\n",
              "\n",
              "  <style>\n",
              "    .colab-df-container {\n",
              "      display:flex;\n",
              "      gap: 12px;\n",
              "    }\n",
              "\n",
              "    .colab-df-convert {\n",
              "      background-color: #E8F0FE;\n",
              "      border: none;\n",
              "      border-radius: 50%;\n",
              "      cursor: pointer;\n",
              "      display: none;\n",
              "      fill: #1967D2;\n",
              "      height: 32px;\n",
              "      padding: 0 0 0 0;\n",
              "      width: 32px;\n",
              "    }\n",
              "\n",
              "    .colab-df-convert:hover {\n",
              "      background-color: #E2EBFA;\n",
              "      box-shadow: 0px 1px 2px rgba(60, 64, 67, 0.3), 0px 1px 3px 1px rgba(60, 64, 67, 0.15);\n",
              "      fill: #174EA6;\n",
              "    }\n",
              "\n",
              "    .colab-df-buttons div {\n",
              "      margin-bottom: 4px;\n",
              "    }\n",
              "\n",
              "    [theme=dark] .colab-df-convert {\n",
              "      background-color: #3B4455;\n",
              "      fill: #D2E3FC;\n",
              "    }\n",
              "\n",
              "    [theme=dark] .colab-df-convert:hover {\n",
              "      background-color: #434B5C;\n",
              "      box-shadow: 0px 1px 3px 1px rgba(0, 0, 0, 0.15);\n",
              "      filter: drop-shadow(0px 1px 2px rgba(0, 0, 0, 0.3));\n",
              "      fill: #FFFFFF;\n",
              "    }\n",
              "  </style>\n",
              "\n",
              "    <script>\n",
              "      const buttonEl =\n",
              "        document.querySelector('#df-fd9558ad-90d9-4395-81d2-e723a44d2963 button.colab-df-convert');\n",
              "      buttonEl.style.display =\n",
              "        google.colab.kernel.accessAllowed ? 'block' : 'none';\n",
              "\n",
              "      async function convertToInteractive(key) {\n",
              "        const element = document.querySelector('#df-fd9558ad-90d9-4395-81d2-e723a44d2963');\n",
              "        const dataTable =\n",
              "          await google.colab.kernel.invokeFunction('convertToInteractive',\n",
              "                                                    [key], {});\n",
              "        if (!dataTable) return;\n",
              "\n",
              "        const docLinkHtml = 'Like what you see? Visit the ' +\n",
              "          '<a target=\"_blank\" href=https://colab.research.google.com/notebooks/data_table.ipynb>data table notebook</a>'\n",
              "          + ' to learn more about interactive tables.';\n",
              "        element.innerHTML = '';\n",
              "        dataTable['output_type'] = 'display_data';\n",
              "        await google.colab.output.renderOutput(dataTable, element);\n",
              "        const docLink = document.createElement('div');\n",
              "        docLink.innerHTML = docLinkHtml;\n",
              "        element.appendChild(docLink);\n",
              "      }\n",
              "    </script>\n",
              "  </div>\n",
              "\n",
              "\n",
              "<div id=\"df-145e6131-bab2-40e0-be0d-ed8fe59b80ed\">\n",
              "  <button class=\"colab-df-quickchart\" onclick=\"quickchart('df-145e6131-bab2-40e0-be0d-ed8fe59b80ed')\"\n",
              "            title=\"Suggest charts\"\n",
              "            style=\"display:none;\">\n",
              "\n",
              "<svg xmlns=\"http://www.w3.org/2000/svg\" height=\"24px\"viewBox=\"0 0 24 24\"\n",
              "     width=\"24px\">\n",
              "    <g>\n",
              "        <path d=\"M19 3H5c-1.1 0-2 .9-2 2v14c0 1.1.9 2 2 2h14c1.1 0 2-.9 2-2V5c0-1.1-.9-2-2-2zM9 17H7v-7h2v7zm4 0h-2V7h2v10zm4 0h-2v-4h2v4z\"/>\n",
              "    </g>\n",
              "</svg>\n",
              "  </button>\n",
              "\n",
              "<style>\n",
              "  .colab-df-quickchart {\n",
              "      --bg-color: #E8F0FE;\n",
              "      --fill-color: #1967D2;\n",
              "      --hover-bg-color: #E2EBFA;\n",
              "      --hover-fill-color: #174EA6;\n",
              "      --disabled-fill-color: #AAA;\n",
              "      --disabled-bg-color: #DDD;\n",
              "  }\n",
              "\n",
              "  [theme=dark] .colab-df-quickchart {\n",
              "      --bg-color: #3B4455;\n",
              "      --fill-color: #D2E3FC;\n",
              "      --hover-bg-color: #434B5C;\n",
              "      --hover-fill-color: #FFFFFF;\n",
              "      --disabled-bg-color: #3B4455;\n",
              "      --disabled-fill-color: #666;\n",
              "  }\n",
              "\n",
              "  .colab-df-quickchart {\n",
              "    background-color: var(--bg-color);\n",
              "    border: none;\n",
              "    border-radius: 50%;\n",
              "    cursor: pointer;\n",
              "    display: none;\n",
              "    fill: var(--fill-color);\n",
              "    height: 32px;\n",
              "    padding: 0;\n",
              "    width: 32px;\n",
              "  }\n",
              "\n",
              "  .colab-df-quickchart:hover {\n",
              "    background-color: var(--hover-bg-color);\n",
              "    box-shadow: 0 1px 2px rgba(60, 64, 67, 0.3), 0 1px 3px 1px rgba(60, 64, 67, 0.15);\n",
              "    fill: var(--button-hover-fill-color);\n",
              "  }\n",
              "\n",
              "  .colab-df-quickchart-complete:disabled,\n",
              "  .colab-df-quickchart-complete:disabled:hover {\n",
              "    background-color: var(--disabled-bg-color);\n",
              "    fill: var(--disabled-fill-color);\n",
              "    box-shadow: none;\n",
              "  }\n",
              "\n",
              "  .colab-df-spinner {\n",
              "    border: 2px solid var(--fill-color);\n",
              "    border-color: transparent;\n",
              "    border-bottom-color: var(--fill-color);\n",
              "    animation:\n",
              "      spin 1s steps(1) infinite;\n",
              "  }\n",
              "\n",
              "  @keyframes spin {\n",
              "    0% {\n",
              "      border-color: transparent;\n",
              "      border-bottom-color: var(--fill-color);\n",
              "      border-left-color: var(--fill-color);\n",
              "    }\n",
              "    20% {\n",
              "      border-color: transparent;\n",
              "      border-left-color: var(--fill-color);\n",
              "      border-top-color: var(--fill-color);\n",
              "    }\n",
              "    30% {\n",
              "      border-color: transparent;\n",
              "      border-left-color: var(--fill-color);\n",
              "      border-top-color: var(--fill-color);\n",
              "      border-right-color: var(--fill-color);\n",
              "    }\n",
              "    40% {\n",
              "      border-color: transparent;\n",
              "      border-right-color: var(--fill-color);\n",
              "      border-top-color: var(--fill-color);\n",
              "    }\n",
              "    60% {\n",
              "      border-color: transparent;\n",
              "      border-right-color: var(--fill-color);\n",
              "    }\n",
              "    80% {\n",
              "      border-color: transparent;\n",
              "      border-right-color: var(--fill-color);\n",
              "      border-bottom-color: var(--fill-color);\n",
              "    }\n",
              "    90% {\n",
              "      border-color: transparent;\n",
              "      border-bottom-color: var(--fill-color);\n",
              "    }\n",
              "  }\n",
              "</style>\n",
              "\n",
              "  <script>\n",
              "    async function quickchart(key) {\n",
              "      const quickchartButtonEl =\n",
              "        document.querySelector('#' + key + ' button');\n",
              "      quickchartButtonEl.disabled = true;  // To prevent multiple clicks.\n",
              "      quickchartButtonEl.classList.add('colab-df-spinner');\n",
              "      try {\n",
              "        const charts = await google.colab.kernel.invokeFunction(\n",
              "            'suggestCharts', [key], {});\n",
              "      } catch (error) {\n",
              "        console.error('Error during call to suggestCharts:', error);\n",
              "      }\n",
              "      quickchartButtonEl.classList.remove('colab-df-spinner');\n",
              "      quickchartButtonEl.classList.add('colab-df-quickchart-complete');\n",
              "    }\n",
              "    (() => {\n",
              "      let quickchartButtonEl =\n",
              "        document.querySelector('#df-145e6131-bab2-40e0-be0d-ed8fe59b80ed button');\n",
              "      quickchartButtonEl.style.display =\n",
              "        google.colab.kernel.accessAllowed ? 'block' : 'none';\n",
              "    })();\n",
              "  </script>\n",
              "</div>\n",
              "    </div>\n",
              "  </div>\n"
            ]
          },
          "metadata": {},
          "execution_count": 16
        }
      ]
    },
    {
      "cell_type": "markdown",
      "source": [
        "We also need to know the rating scales because we need to determine beyond what scores we can say that a user likes the movies."
      ],
      "metadata": {
        "id": "xdxnMjKHtDhG"
      }
    },
    {
      "cell_type": "code",
      "source": [
        "# what are the ratings\n",
        "sorted(pd.unique(rating_df['rating']))"
      ],
      "metadata": {
        "id": "az7ncS0yuyWF",
        "outputId": "104d5d28-59f5-44e4-ea3c-1d5bdd918b51",
        "colab": {
          "base_uri": "https://localhost:8080/"
        }
      },
      "execution_count": 17,
      "outputs": [
        {
          "output_type": "execute_result",
          "data": {
            "text/plain": [
              "[0.5, 1.0, 1.5, 2.0, 2.5, 3.0, 3.5, 4.0, 4.5, 5.0]"
            ]
          },
          "metadata": {},
          "execution_count": 17
        }
      ]
    },
    {
      "cell_type": "markdown",
      "source": [
        "### Prepare datasets"
      ],
      "metadata": {
        "id": "9h4S1ncBvK8d"
      }
    },
    {
      "cell_type": "markdown",
      "source": [
        "Next, we divide the complete dataset into training, validation, and testing sets. The partition is made based on the edges in the graph. More specifically, we randomly separate the data into three groups with an 80/10/10 split ratio. This implies that each group will contain a portion of the `edge_index` subset."
      ],
      "metadata": {
        "id": "HVRWWdhbRqhu"
      }
    },
    {
      "cell_type": "code",
      "source": [
        "# split the edges into train set and test set\n",
        "num_ratings = edge_index.shape[1]\n",
        "rating_indices = np.arange(num_ratings)\n",
        "\n",
        "indices_train, indices_val_test = train_test_split(rating_indices, test_size = 0.2, random_state = 42)\n",
        "indices_val, indices_test = train_test_split(indices_val_test, test_size = 0.5, random_state = 42)\n",
        "\n",
        "# slice the whole dataset by split indices, then convert to SparseTensor for later training\n",
        "def generate_edge(edge_indices):\n",
        "  '''\n",
        "  Paramters:\n",
        "      edge_indices (np.ndarray): An array representing the indices of edges in the dataset.\n",
        "\n",
        "  Returns:\n",
        "      sub_edge_index (torch.Tensor): indices of edges in the specified subset.\n",
        "      edge_index_sparse (SparseTensor): A sparse tensor representing the adjacency matrix for the subset of edges.\n",
        "  '''\n",
        "  sub_edge_index = edge_index[:, edge_indices]\n",
        "  num_nodes = num_users + num_movies\n",
        "  edge_index_sparse = SparseTensor(row = sub_edge_index[0],\n",
        "                                   col = sub_edge_index[1],\n",
        "                                   sparse_sizes = (num_nodes, num_nodes))\n",
        "  return sub_edge_index, edge_index_sparse\n",
        "\n",
        "train_edge_index, train_sparse_edge_index = generate_edge(indices_train)\n",
        "val_edge_index, val_sparse_edge_index = generate_edge(indices_val)\n",
        "test_edge_index, test_sparse_edge_index = generate_edge(indices_test)"
      ],
      "metadata": {
        "id": "d9op9aVbTFIf"
      },
      "execution_count": 18,
      "outputs": []
    },
    {
      "cell_type": "markdown",
      "source": [
        "During the training phase, we will use mini-batches and select a number of positive and negative edges within each batch. Positive edges refer to observed or training user-item interactions. We aim to punish negative edges during training by allocating them with a greater loss. To achieve this, we will make use of the PyG function called `structured_negative_sampling,` which selects a negative edge for every positive edge in the graph as defined by `edge_index`."
      ],
      "metadata": {
        "id": "tvZpaxT_aFCd"
      }
    },
    {
      "cell_type": "code",
      "source": [
        "edges = structured_negative_sampling(train_edge_index)\n",
        "edges = torch.stack(edges, dim=0)\n",
        "edges"
      ],
      "metadata": {
        "colab": {
          "base_uri": "https://localhost:8080/"
        },
        "id": "_uxt8LxCnkE7",
        "outputId": "f024ad69-27ad-4094-dfee-e31923e98100"
      },
      "execution_count": 19,
      "outputs": [
        {
          "output_type": "execute_result",
          "data": {
            "text/plain": [
              "tensor([[ 408,  579,    2,  ...,  482,   15,  205],\n",
              "        [ 863,  990, 3734,  ..., 5729,  561,  621],\n",
              "        [5892, 9029, 6789,  ..., 1273, 6634, 6147]])"
            ]
          },
          "metadata": {},
          "execution_count": 19
        }
      ]
    },
    {
      "cell_type": "code",
      "metadata": {
        "id": "KqKI1VduKcwf"
      },
      "source": [
        "def mini_batch_sample(batch_size, edge_index):\n",
        "    \"\"\"\n",
        "    Randomly samples indices of a minibatch given an adjacency matrix.\n",
        "    These tensors represent the indices of the sampled minibatch, where:\n",
        "    - user indices: indices of the users in the sampled edges\n",
        "    - positive item indices: indices of the positive items in the sampled edges\n",
        "    - negative item indices: indices of the negative items in the sampled edges\n",
        "\n",
        "    Parameters:\n",
        "    batch_size (int): The desired minibatch size.\n",
        "    edge_index (torch.Tensor): A 2 by N tensor representing the edges.\n",
        "\n",
        "    Returns:\n",
        "    user indices, positive item indices, negative item indices (torch.Tensor)\n",
        "    \"\"\"\n",
        "    edges = structured_negative_sampling(edge_index)\n",
        "    edges = torch.stack(edges, dim=0)\n",
        "    indices = torch.randperm(edges.shape[1])[:batch_size]\n",
        "    batch = edges[:, indices]\n",
        "    user_indices, pos_item_indices, neg_item_indices = batch[0], batch[1], batch[2]\n",
        "    return user_indices, pos_item_indices, neg_item_indices"
      ],
      "execution_count": 20,
      "outputs": []
    },
    {
      "cell_type": "markdown",
      "source": [
        "## 3.Model Architecture"
      ],
      "metadata": {
        "id": "c6uMVxdDqUAT"
      }
    },
    {
      "cell_type": "markdown",
      "source": [
        "\n",
        "LightGCN is a member of the graph convolutional networks (GCNs) family, designed as a recommender system model. Its main goal is to deliver personalized recommendations by leveraging the structure of the user-item interaction graph. In contrast to other recommendation methods based on graphs that utilize intricate graph neural networks (GNNs), LightGCN excludes feature transformation and non-linearity. This choice results in a model with fewer parameters and quicker training times. The architecture of the model involves executing multiple layers of graph convolutions to disseminate user-item embeddings, which are then utilized to formulate personalized recommendations. Despite its computational efficiency, LightGCN has demonstrated competitive performance in terms of recommendation quality. Additional details can be found in the [orginal paper](https://arxiv.org/pdf/2002.02126.pdf) here."
      ],
      "metadata": {
        "id": "lF-_2S6AnvXB"
      }
    },
    {
      "cell_type": "code",
      "metadata": {
        "id": "o9GvYg9ehDOX"
      },
      "source": [
        "# defines LightGCN model\n",
        "class LightGCN(MessagePassing):\n",
        "    \"\"\"\n",
        "    LightGCN Model, see reference: https://arxiv.org/abs/2002.02126\n",
        "    We omit a dedicated class for LightGCNConvs for easy access to embeddings\n",
        "    \"\"\"\n",
        "\n",
        "    def __init__(self, num_users, num_items, hidden_dim, num_layers):\n",
        "        super().__init__()\n",
        "        self.num_users = num_users\n",
        "        self.num_items = num_items\n",
        "        self.hidden_dim = hidden_dim\n",
        "        self.num_layers = num_layers\n",
        "\n",
        "        self.users_emb = nn.Embedding(self.num_users, self.hidden_dim)\n",
        "        self.items_emb = nn.Embedding(self.num_items, self.hidden_dim)\n",
        "\n",
        "        nn.init.normal_(self.users_emb.weight, std=0.1)\n",
        "        nn.init.normal_(self.items_emb.weight, std=0.1)\n",
        "\n",
        "    def forward(self, edge_index):\n",
        "        \"\"\"\n",
        "        Forward pass of the LightGCN model. Returns the init and final\n",
        "        embeddings of the user and item\n",
        "        \"\"\"\n",
        "        edge_index_norm = gcn_norm(edge_index, False)\n",
        "\n",
        "        # The first layer, concat embeddings\n",
        "        x0 = torch.cat([self.users_emb.weight, self.items_emb.weight])\n",
        "        xs = [x0]\n",
        "        xi = x0\n",
        "\n",
        "        # pass x to the next layer\n",
        "        for i in range(self.num_layers):\n",
        "            xi = self.propagate(edge_index_norm, x=xi)\n",
        "            xs.append(xi)\n",
        "\n",
        "        xs = torch.stack(xs, dim=1)\n",
        "        x_final = torch.mean(xs, dim=1)\n",
        "\n",
        "        users_emb, items_emb = \\\n",
        "        torch.split(x_final, [self.num_users, self.num_items])\n",
        "\n",
        "        return users_emb, self.users_emb.weight, items_emb, self.items_emb.weight\n",
        "\n",
        "    def message(self, x):\n",
        "        return x\n",
        "\n",
        "    def propagate(self, edge_index, x):\n",
        "        x = self.message_and_aggregate(edge_index, x)\n",
        "        return x\n",
        "\n",
        "    def message_and_aggregate(self, edge_index, x):\n",
        "        return matmul(edge_index, x)\n"
      ],
      "execution_count": 21,
      "outputs": []
    },
    {
      "cell_type": "code",
      "metadata": {
        "id": "QmPs1xS-BYfe"
      },
      "source": [
        "def bpr_loss(users_emb, user_emb_0, pos_emb, pos_emb_0, neg_emb, neg_emb_0, lambda_val):\n",
        "    \"\"\"\n",
        "    Calculate the Bayesian Personalzied Ranking loss.\n",
        "\n",
        "    Parameters:\n",
        "    users_emb (torch.Tensor): The final output of user embedding\n",
        "    user_emb_0 (torch.Tensor): The initial user embedding\n",
        "    pos_emb (torch.Tensor):  The final positive item embedding\n",
        "    pos_emb_0 (torch.Tensor): The initial item embedding\n",
        "    neg_emb (torch.Tensor): The final negtive item embedding\n",
        "    neg_emb_0 (torch.Tensor): The inital negtive item embedding\n",
        "    lambda_val (float): L2 regulatization strength\n",
        "\n",
        "    Returns:\n",
        "    loss (float): The BPR loss\n",
        "    \"\"\"\n",
        "    pos_scores = torch.sum(users_emb * pos_emb, dim=1)\n",
        "    neg_scores = torch.sum(users_emb * neg_emb, dim=1)\n",
        "    losses = -torch.log(torch.sigmoid(pos_scores - neg_scores))\n",
        "    loss = torch.mean(losses) + lambda_val * \\\n",
        "    (torch.norm(users_emb_0) + torch.norm(pos_emb_0) + torch.norm(neg_emb_0))\n",
        "\n",
        "    return loss"
      ],
      "execution_count": 22,
      "outputs": []
    },
    {
      "cell_type": "markdown",
      "source": [
        "## 4.Evaluation Metrics"
      ],
      "metadata": {
        "id": "X-BrXDrgqt18"
      }
    },
    {
      "cell_type": "code",
      "source": [
        "def evaluation(model, edge_index, sparse_edge_index, mask_index, k, lambda_val):\n",
        "    \"\"\"\n",
        "    Evaluates model loss and metrics including recall, precision on the\n",
        "    Parameters:\n",
        "    model: LightGCN model to evaluate.\n",
        "    edge_index (torch.Tensor): Edges for the split to evaluate.\n",
        "    sparse_edge_index (torch.SparseTensor): Sparse adjacency matrix.\n",
        "    mask_index(torch.Tensor): Edges to remove from evaluation, in the form of a list.\n",
        "    k (int): Top k items to consider for evaluation.\n",
        "\n",
        "    Returns: loss, recall, precision\n",
        "        - loss: The loss value of the model on the given split.\n",
        "        - recall: The recall value of the model on the given split.\n",
        "        - precision: The precision value of the model on the given split.\n",
        "    \"\"\"\n",
        "    # get embeddings and calculate the loss\n",
        "    users_emb, users_emb_0, items_emb, items_emb_0 = model.forward(sparse_edge_index)\n",
        "    edges = structured_negative_sampling(edge_index, contains_neg_self_loops=False)\n",
        "\n",
        "    user_indices, pos_indices, neg_indices = edges[0], edges[1], edges[2]\n",
        "    users_emb, users_emb_0 = users_emb[user_indices], users_emb_0[user_indices]\n",
        "    pos_emb, pos_emb_0 = items_emb[pos_indices], items_emb_0[pos_indices]\n",
        "    neg_emb, neg_emb_0 = items_emb[neg_indices], items_emb_0[neg_indices]\n",
        "\n",
        "    loss = bpr_loss(users_emb, users_emb_0, pos_emb, pos_emb_0,\n",
        "                    neg_emb, neg_emb_0, lambda_val).item()\n",
        "\n",
        "    users_emb_w = model.users_emb.weight\n",
        "    items_emb_w = model.items_emb.weight\n",
        "\n",
        "    # set ratings matrix between every user and item, mask out existing ones\n",
        "    rating = torch.matmul(users_emb_w, items_emb_w.T)\n",
        "\n",
        "    for index in mask_index:\n",
        "        user_pos_items = get_positive_items(index)\n",
        "        masked_users = []\n",
        "        masked_items = []\n",
        "        for user, items in user_pos_items.items():\n",
        "            masked_users.extend([user] * len(items))\n",
        "            masked_items.extend(items)\n",
        "\n",
        "        rating[masked_users, masked_items] = float(\"-inf\")\n",
        "\n",
        "    _, top_K_items = torch.topk(rating, k=k)\n",
        "\n",
        "    # get all unique users and actual ratings for evaluation\n",
        "    users = edge_index[0].unique()\n",
        "    test_user_pos_items = get_positive_items(edge_index)\n",
        "\n",
        "    actual_r = [test_user_pos_items[user.item()] for user in users]\n",
        "    pred_r = []\n",
        "\n",
        "    for user in users:\n",
        "        items = test_user_pos_items[user.item()]\n",
        "        label = list(map(lambda x: x in items, top_K_items[user]))\n",
        "        pred_r.append(label)\n",
        "\n",
        "    pred_r = torch.Tensor(np.array(pred_r).astype('float'))\n",
        "\n",
        "\n",
        "    correct_count = torch.sum(pred_r, dim=-1)\n",
        "    # number of items liked by each user in the test set\n",
        "    liked_count = torch.Tensor([len(actual_r[i]) for i in range(len(actual_r))])\n",
        "\n",
        "    recall = torch.mean(correct_count / liked_count)\n",
        "    precision = torch.mean(correct_count) / k\n",
        "\n",
        "\n",
        "    return loss, recall, precision"
      ],
      "metadata": {
        "id": "DIUu82bph3q1"
      },
      "execution_count": 23,
      "outputs": []
    },
    {
      "cell_type": "code",
      "metadata": {
        "id": "nHO2gdhRSwzJ"
      },
      "source": [
        "# helper method to get positive items for train/test sets\n",
        "def get_positive_items(edge_index):\n",
        "    \"\"\"\n",
        "    Return positive items for all users in form of list\n",
        "    Parameters:\n",
        "      edge_index (torch.Tensor): The edge index representing the user-item interactions.\n",
        "    Returns:\n",
        "      pos_items (torch.Tensor): A list containing the positive items for all users.\n",
        "    \"\"\"\n",
        "    pos_items = {}\n",
        "    for i in range(edge_index.shape[1]):\n",
        "        user = edge_index[0][i].item()\n",
        "        item = edge_index[1][i].item()\n",
        "        if user not in pos_items:\n",
        "            pos_items[user] = []\n",
        "        pos_items[user].append(item)\n",
        "    return pos_items"
      ],
      "execution_count": 24,
      "outputs": []
    },
    {
      "cell_type": "code",
      "metadata": {
        "id": "8We4BTtfS4NV"
      },
      "source": [
        "def recallAtK(actual_r, pred_r, k):\n",
        "    \"\"\"\n",
        "    Return recall at k and precision at k\n",
        "    \"\"\"\n",
        "    correct_count = torch.sum(pred_r, dim=-1)\n",
        "    # number of items liked by each user in the test set\n",
        "    liked_count = torch.Tensor([len(actual_r[i]) for i in range(len(actual_r))])\n",
        "\n",
        "    recall = torch.mean(correct_count / liked_count)\n",
        "    precision = torch.mean(correct_count) / k\n",
        "\n",
        "    return recall.item(), precision.item()\n"
      ],
      "execution_count": 25,
      "outputs": []
    },
    {
      "cell_type": "code",
      "metadata": {
        "id": "MQL2W-NQTeFd"
      },
      "source": [
        "# model configurations\n",
        "config = {\n",
        "    'batch_size': 256,\n",
        "    'num_epoch': 50,\n",
        "    'epoch_size': 200,\n",
        "    'lr': 1e-3,\n",
        "    'lr_decay': 0.9,\n",
        "    'topK': 20,\n",
        "    'lambda': 1e-6,\n",
        "    'hidden_dim': 32,\n",
        "    'num_layer': 3,\n",
        "}"
      ],
      "execution_count": 26,
      "outputs": []
    },
    {
      "cell_type": "code",
      "metadata": {
        "id": "49JDkBtKTfE-"
      },
      "source": [
        "# setup\n",
        "device = torch.device('cuda' if torch.cuda.is_available() else 'cpu')\n",
        "\n",
        "model = LightGCN(num_users, num_movies, config['hidden_dim'], config['num_layer'])\n",
        "model = model.to(device)\n",
        "model.train()\n",
        "\n",
        "optimizer = optim.Adam(model.parameters(), lr=config['lr'])\n",
        "scheduler = optim.lr_scheduler.ExponentialLR(optimizer, gamma=config['lr_decay'])\n",
        "\n",
        "edge_index = edge_index.to(device)\n",
        "train_edge_index = train_edge_index.to(device)\n",
        "train_sparse_edge_index = train_sparse_edge_index.to(device)\n",
        "\n",
        "val_edge_index = val_edge_index.to(device)\n",
        "val_sparse_edge_index = val_sparse_edge_index.to(device)"
      ],
      "execution_count": 27,
      "outputs": []
    },
    {
      "cell_type": "code",
      "metadata": {
        "colab": {
          "base_uri": "https://localhost:8080/"
        },
        "id": "wYjrDp1w-hiP",
        "outputId": "f24c35e3-f774-424f-d653-860720cabebb"
      },
      "source": [
        "# training loop\n",
        "train_losses = []\n",
        "val_losses = []\n",
        "\n",
        "for epoch in range(config['num_epoch']):\n",
        "  for iter in range(config['epoch_size']):\n",
        "    # forward propagation\n",
        "    users_emb, users_emb_0, items_emb, items_emb_0 = model.forward(train_sparse_edge_index)\n",
        "\n",
        "    # mini batching\n",
        "    user_indices, pos_indices, neg_indices = mini_batch_sample(config['batch_size'], train_edge_index)\n",
        "\n",
        "    user_indices = user_indices.to(device)\n",
        "    pos_indices = pos_indices.to(device)\n",
        "    neg_indices = neg_indices.to(device)\n",
        "\n",
        "    users_emb, users_emb_0 = users_emb[user_indices], users_emb_0[user_indices]\n",
        "    pos_emb, pos_emb_0 = items_emb[pos_indices], items_emb_0[pos_indices]\n",
        "    neg_emb, neg_emb_0 = items_emb[neg_indices], items_emb_0[neg_indices]\n",
        "\n",
        "    # loss computation\n",
        "    loss = bpr_loss(users_emb, users_emb_0,\n",
        "                    pos_emb, pos_emb_0,\n",
        "                    neg_emb, neg_emb_0,\n",
        "                    config['lambda'])\n",
        "\n",
        "    optimizer.zero_grad()\n",
        "    loss.backward()\n",
        "    optimizer.step()\n",
        "\n",
        "  model.eval()\n",
        "  val_loss, recall, precision = evaluation(model, val_edge_index,\n",
        "                                           val_sparse_edge_index,\n",
        "                                           [train_edge_index],\n",
        "                                           config['topK'],\n",
        "                                           config['lambda'])\n",
        "\n",
        "\n",
        "  print('Epoch {:d}: train_loss: {:.4f}, val_loss: {:.4f}, recall: {:.4f}, precision: {:.4f}'\\\n",
        "        .format(epoch, loss, val_loss, recall, precision))\n",
        "  train_losses.append(loss.item())\n",
        "  val_losses.append(val_loss)\n",
        "  scheduler.step()"
      ],
      "execution_count": null,
      "outputs": [
        {
          "output_type": "stream",
          "name": "stdout",
          "text": [
            "Epoch 0: train_loss: 0.4432, val_loss: 0.5710, recall: 0.0145, precision: 0.0051\n",
            "Epoch 1: train_loss: 0.3105, val_loss: 0.4634, recall: 0.0410, precision: 0.0117\n",
            "Epoch 2: train_loss: 0.2633, val_loss: 0.4254, recall: 0.0572, precision: 0.0166\n",
            "Epoch 3: train_loss: 0.2649, val_loss: 0.4039, recall: 0.0744, precision: 0.0204\n",
            "Epoch 4: train_loss: 0.1956, val_loss: 0.3954, recall: 0.0841, precision: 0.0232\n",
            "Epoch 5: train_loss: 0.2653, val_loss: 0.3833, recall: 0.0915, precision: 0.0250\n",
            "Epoch 6: train_loss: 0.2228, val_loss: 0.3763, recall: 0.0917, precision: 0.0251\n"
          ]
        }
      ]
    },
    {
      "cell_type": "markdown",
      "source": [
        "### Visualize the Results"
      ],
      "metadata": {
        "id": "8sAViHQux6kg"
      }
    },
    {
      "cell_type": "code",
      "metadata": {
        "id": "nLcdvV5iXBSv"
      },
      "source": [
        "epochs = range(config['num_epoch'])\n",
        "fig = plt.figure(figsize=(8, 5))\n",
        "ax = fig.add_axes([0, 0, 1, 1])\n",
        "ax.plot(epochs, train_losses, color='r', label='Train', alpha=1)\n",
        "ax.plot(epochs, val_losses, color='b', label='Validation', alpha=1)\n",
        "ax.grid(color='g', ls='-.', lw=0.5)\n",
        "ax.set_xlabel('Epochs')\n",
        "ax.set_ylabel('Losses')\n",
        "plt.title('Training and Validation Losses')\n",
        "plt.legend()\n",
        "plt.show()"
      ],
      "execution_count": null,
      "outputs": []
    },
    {
      "cell_type": "markdown",
      "source": [
        "### Evaluate on the test set\n",
        "Now we can evaluate on the test set to see how our model perform:"
      ],
      "metadata": {
        "id": "0p45TlRNsFFi"
      }
    },
    {
      "cell_type": "code",
      "metadata": {
        "id": "G6UjCTMQ_N5e"
      },
      "source": [
        "# evaluate on test set\n",
        "model.eval()\n",
        "test_sparse_edge_index = test_sparse_edge_index.to(device)\n",
        "test_edge_index = test_edge_index.to(device)\n",
        "test_loss, test_recall, test_precision \\\n",
        "    = evaluation(model,\n",
        "                test_edge_index,\n",
        "                test_sparse_edge_index,\n",
        "                [train_edge_index, val_edge_index],\n",
        "                config['topK'],\n",
        "                config['lambda'])\n",
        "\n",
        "\n",
        "print('Test set: train_loss: {:.4f}, recall: {:.4f}, precision: {:.4f}'\\\n",
        "        .format(test_loss, test_recall, test_precision))\n"
      ],
      "execution_count": null,
      "outputs": []
    },
    {
      "cell_type": "markdown",
      "metadata": {
        "id": "At4zWPfaVW6q"
      },
      "source": [
        "# Make New Recommendatios for a Given User"
      ]
    },
    {
      "cell_type": "code",
      "source": [
        "def predict(user_id, topK):\n",
        "    '''\n",
        "    Make top K recommendations to the user\n",
        "    '''\n",
        "    # read movie and uesr info\n",
        "    model.eval()\n",
        "    df = pd.read_csv(movie_path)\n",
        "    movie_titles = pd.Series(df.title.values, index=df.movieId).to_dict()\n",
        "    movie_genres = pd.Series(df.genres.values, index=df.movieId).to_dict()\n",
        "    pos_items = get_positive_items(edge_index)\n",
        "    user = user_mapping[user_id]\n",
        "    user_emb = model.users_emb.weight[user]\n",
        "    scores = model.items_emb.weight @ user_emb\n",
        "\n",
        "    values, indices = torch.topk(scores, k=len(pos_items[user]) + topK)\n",
        "\n",
        "    movies = [index.cpu().item() for index in indices if index in pos_items[user]]\n",
        "    topk_movies = movies[:topK]\n",
        "    movie_ids = [list(movie_mapping.keys())[list(movie_mapping.values())\\\n",
        "                                            .index(movie)] for movie in movies]\n",
        "    titles = [movie_titles[id] for id in movie_ids]\n",
        "    genres = [movie_genres[id] for id in movie_ids]\n",
        "\n",
        "    print(\"User {:d} liked these movies:\".format(user_id))\n",
        "    for i in range(topK):\n",
        "        print(\"{:s}, {:s} \".format(titles[i], genres[i]))\n",
        "\n",
        "    print('====================================================================')\n",
        "\n",
        "    movies = [index.cpu().item() for index in indices if index not in pos_items[user]]\n",
        "    topk_movies = movies[:topK]\n",
        "    movie_ids = [list(movie_mapping.keys())[list(movie_mapping.values())\\\n",
        "    .index(movie)] for movie in movies]\n",
        "    titles = [movie_titles[id] for id in movie_ids]\n",
        "    genres = [movie_genres[id] for id in movie_ids]\n",
        "\n",
        "    print(\"Here are the movies that we think the user will enjoy:\")\n",
        "    for i in range(topK):\n",
        "        print(\"{:s}, {:s} \".format(titles[i], genres[i]))\n"
      ],
      "metadata": {
        "id": "oWR-LQUDaqgL"
      },
      "execution_count": null,
      "outputs": []
    },
    {
      "cell_type": "markdown",
      "source": [
        "### Try it out!\n",
        "Now you can explore with different user ID (1 to 943) and the number of movies to recommend"
      ],
      "metadata": {
        "id": "0CygVPMklajo"
      }
    },
    {
      "cell_type": "code",
      "metadata": {
        "id": "DSFgwnaecWBw"
      },
      "source": [
        "predict(155, 5)"
      ],
      "execution_count": null,
      "outputs": []
    },
    {
      "cell_type": "code",
      "source": [
        "\n",
        "movies = pd.read_csv('/content/movies.csv',sep=';',encoding='latin-1').drop('Unnamed: 3',axis=1)\n",
        "print('Shape of this dataset :',movies.shape)\n",
        "movies.head()"
      ],
      "metadata": {
        "id": "9_9tRha1-TLe"
      },
      "execution_count": null,
      "outputs": []
    },
    {
      "cell_type": "code",
      "source": [
        "!unzip \"/content/ratings.csv.zip\"\n",
        "ratings = pd.read_csv('/content/ratings.csv',sep=';')\n",
        "print('Shape of this dataset :',ratings.shape)\n",
        "ratings.head()"
      ],
      "metadata": {
        "id": "qOT9H-lhG3oJ"
      },
      "execution_count": null,
      "outputs": []
    },
    {
      "cell_type": "code",
      "source": [
        "users = pd.read_csv('/content/users.csv',sep=';')\n",
        "print('Shape of this dataset :',users.shape)\n",
        "users.head()"
      ],
      "metadata": {
        "id": "6BsTY_FQHRFX"
      },
      "execution_count": null,
      "outputs": []
    },
    {
      "cell_type": "code",
      "source": [
        "rating_pivot = ratings.pivot_table(values='rating',columns='userId',index='movieId').fillna(0)\n",
        "print('Shape of this pivot table :',rating_pivot.shape)\n",
        "rating_pivot.head()"
      ],
      "metadata": {
        "id": "4PhvFszGIfbj"
      },
      "execution_count": null,
      "outputs": []
    },
    {
      "cell_type": "code",
      "source": [
        "from sklearn.neighbors import NearestNeighbors\n",
        "nn_algo = NearestNeighbors(metric='cosine')\n",
        "nn_algo.fit(rating_pivot)"
      ],
      "metadata": {
        "id": "QMmmXwFDIiyo"
      },
      "execution_count": null,
      "outputs": []
    },
    {
      "cell_type": "code",
      "source": [
        "class Recommender:\n",
        "    def __init__(self):\n",
        "        # This list will stored movies that called atleast ones using recommend_on_movie method\n",
        "        self.hist = []\n",
        "        self.ishist = False # Check if history is empty\n",
        "\n",
        "    # This method will recommend movies based on a movie that passed as the parameter\n",
        "    def recommend_on_movie(self,movie,n_reccomend = 5):\n",
        "        self.ishist = True\n",
        "        movieid = int(movies[movies['title']==movie]['movieId'])\n",
        "        self.hist.append(movieid)\n",
        "        distance,neighbors = nn_algo.kneighbors([rating_pivot.loc[movieid]],n_neighbors=n_reccomend+1)\n",
        "        movieids = [rating_pivot.iloc[i].name for i in neighbors[0]]\n",
        "        recommeds = [str(movies[movies['movieId']==mid]['title']).split('\\n')[0].split('  ')[-1] for mid in movieids if mid not in [movieid]]\n",
        "        return recommeds[:n_reccomend]\n",
        "\n",
        "    # This method will recommend movies based on history stored in self.hist list\n",
        "    def recommend_on_history(self,n_reccomend = 5):\n",
        "        if self.ishist == False:\n",
        "            return print('No history found')\n",
        "        history = np.array([list(rating_pivot.loc[mid]) for mid in self.hist])\n",
        "        distance,neighbors = nn_algo.kneighbors([np.average(history,axis=0)],n_neighbors=n_reccomend + len(self.hist))\n",
        "        movieids = [rating_pivot.iloc[i].name for i in neighbors[0]]\n",
        "        recommeds = [str(movies[movies['movieId']==mid]['title']).split('\\n')[0].split('  ')[-1] for mid in movieids if mid not in self.hist]\n",
        "        return recommeds[:n_reccomend]"
      ],
      "metadata": {
        "id": "FrCHv7V-Iklh"
      },
      "execution_count": null,
      "outputs": []
    },
    {
      "cell_type": "code",
      "source": [
        "# linitializing the Recommender Object\n",
        "recommender = Recommender()\n",
        "# Recommendation based on past watched movies, but the object just initialized. So, therefore no history found\n",
        "recommender.recommend_on_history()\n",
        "# Recommendation based on this movie\n",
        "recommender.recommend_on_movie('Father of the Bride Part II (1995)')\n",
        "# Recommendation based on past watched movies, and this time a movie is there in the history.\n",
        "recommender.recommend_on_history()"
      ],
      "metadata": {
        "id": "lBEKnw35Im0P"
      },
      "execution_count": null,
      "outputs": []
    },
    {
      "cell_type": "code",
      "source": [
        "# Recommendation based on this movie\n",
        "recommender.recommend_on_movie('Tigerland (2000)')\n",
        "# Recommendation based on past watched movies, and this time two movies is there in the history.\n",
        "recommender.recommend_on_history()"
      ],
      "metadata": {
        "id": "25macWCnIuD-"
      },
      "execution_count": null,
      "outputs": []
    },
    {
      "cell_type": "code",
      "source": [
        "# Recommendation based on this movie\n",
        "recommender.recommend_on_movie('Dracula')\n",
        "# Recommendation based on past watched movies, and this time three movies is there in the history.\n",
        "recommender.recommend_on_history()"
      ],
      "metadata": {
        "id": "Hg29gTuCIykr"
      },
      "execution_count": null,
      "outputs": []
    },
    {
      "cell_type": "code",
      "source": [],
      "metadata": {
        "id": "ZvgAm-lpI2yc"
      },
      "execution_count": null,
      "outputs": []
    },
    {
      "cell_type": "markdown",
      "source": [
        "**Recommendation System using Content Based Filtering**"
      ],
      "metadata": {
        "id": "9F_DEDx5I6xY"
      }
    },
    {
      "cell_type": "code",
      "source": [
        "from sklearn.feature_extraction.text import CountVectorizer\n",
        "vectorizer = CountVectorizer(stop_words='english')\n",
        "genres = vectorizer.fit_transform(movies.genres).toarray()\n",
        "contents = pd.DataFrame(genres,columns=vectorizer.get_feature_names_out())\n",
        "print('Shape of the content table :',contents.shape)\n",
        "contents.head()"
      ],
      "metadata": {
        "id": "ss2z1n8RI8Nh"
      },
      "execution_count": null,
      "outputs": []
    },
    {
      "cell_type": "code",
      "source": [
        "from sklearn.neighbors import NearestNeighbors\n",
        "nn_algo = NearestNeighbors(metric='cosine')\n",
        "nn_algo.fit(contents)"
      ],
      "metadata": {
        "id": "p5LT9GReI_Wv"
      },
      "execution_count": null,
      "outputs": []
    },
    {
      "cell_type": "code",
      "source": [
        "class Recommender:\n",
        "    def __init__(self):\n",
        "        # This list will stored movies that called atleast ones using recommend_on_movie method\n",
        "        self.hist = []\n",
        "        self.ishist = False # Check if history is empty\n",
        "\n",
        "    # This method will recommend movies based on a movie that passed as the parameter\n",
        "    def recommend_on_movie(self,movie,n_reccomend = 5):\n",
        "        self.ishist = True\n",
        "        iloc = movies[movies['title']==movie].index[0]\n",
        "        self.hist.append(iloc)\n",
        "        distance,neighbors = nn_algo.kneighbors([contents.iloc[iloc]],n_neighbors=n_reccomend+1)\n",
        "        recommeds = [movies.iloc[i]['title'] for i in neighbors[0] if i not in [iloc]]\n",
        "        return recommeds[:n_reccomend]\n",
        "\n",
        "    # This method will recommend movies based on history stored in self.hist list\n",
        "    def recommend_on_history(self,n_reccomend = 5):\n",
        "        if self.ishist == False:\n",
        "            return print('No history found')\n",
        "        history = np.array([list(contents.iloc[iloc]) for iloc in self.hist])\n",
        "        distance,neighbors = nn_algo.kneighbors([np.average(history,axis=0)],n_neighbors=n_reccomend + len(self.hist))\n",
        "        recommeds = [movies.iloc[i]['title'] for i in neighbors[0] if i not in self.hist]\n",
        "        return recommeds[:n_reccomend]"
      ],
      "metadata": {
        "id": "RT0dLBu5JdvR"
      },
      "execution_count": null,
      "outputs": []
    },
    {
      "cell_type": "code",
      "source": [
        "# linitializing the Recommender Object\n",
        "recommender = Recommender()\n",
        "# Recommendation based on past watched movies, but the object just initialized. So, therefore no history found\n",
        "recommender.recommend_on_history()\n",
        "print(\"--------------------------------\")\n",
        "# Recommendation based on this movie\n",
        "recommender.recommend_on_movie('Father of the Bride Part II (1995)')"
      ],
      "metadata": {
        "id": "hRgs4IuwJjxS"
      },
      "execution_count": null,
      "outputs": []
    },
    {
      "cell_type": "code",
      "source": [],
      "metadata": {
        "id": "71p7Mj_ZJpSs"
      },
      "execution_count": null,
      "outputs": []
    },
    {
      "cell_type": "markdown",
      "source": [
        "**Ref**\n",
        "\n",
        "1. [Создание рекомендательных систем с использованием библиотеки Surprise\n",
        "](https://habr.com/ru/companies/otus/articles/764222/)\n",
        "\n",
        "\n",
        "2. [python-movie-recommender-system](https://github.com/MrPatrek/python-movie-recommender-system)\n",
        "\n",
        "3. [Creating a Simple Recommender System in Python using Pandas](https://stackabuse.com/creating-a-simple-recommender-system-in-python-using-pandas/)\n",
        "\n",
        "4. [Movie Recommender Systems with PyG](https://medium.com/stanford-cs224w/movie-recommender-systems-with-pyg-37da71f405a4)"
      ],
      "metadata": {
        "id": "5ecXAU26aUhi"
      }
    }
  ]
}